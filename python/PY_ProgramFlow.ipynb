{
 "cells": [
  {
   "cell_type": "code",
   "execution_count": 4,
   "id": "bbc6cb86",
   "metadata": {},
   "outputs": [
    {
     "name": "stderr",
     "output_type": "stream",
     "text": [
      "Matplotlib is building the font cache; this may take a moment.\n"
     ]
    }
   ],
   "source": [
    "%matplotlib inline\n",
    "import matplotlib\n",
    "import seaborn as sns\n",
    "matplotlib.rcParams['savefig.dpi']=144"
   ]
  },
  {
   "cell_type": "code",
   "execution_count": 5,
   "id": "8b1c772a",
   "metadata": {},
   "outputs": [
    {
     "ename": "ModuleNotFoundError",
     "evalue": "No module named 'expectexception'",
     "output_type": "error",
     "traceback": [
      "\u001b[0;31m---------------------------------------------------------------------------\u001b[0m",
      "\u001b[0;31mModuleNotFoundError\u001b[0m                       Traceback (most recent call last)",
      "\u001b[0;32m/tmp/ipykernel_77840/2959960596.py\u001b[0m in \u001b[0;36m<module>\u001b[0;34m\u001b[0m\n\u001b[0;32m----> 1\u001b[0;31m \u001b[0;32mimport\u001b[0m \u001b[0mexpectexception\u001b[0m\u001b[0;34m\u001b[0m\u001b[0;34m\u001b[0m\u001b[0m\n\u001b[0m",
      "\u001b[0;31mModuleNotFoundError\u001b[0m: No module named 'expectexception'"
     ]
    }
   ],
   "source": [
    "import expectexception"
   ]
  },
  {
   "cell_type": "markdown",
   "id": "4bcbf5be",
   "metadata": {},
   "source": [
    "# Program Flow"
   ]
  },
  {
   "cell_type": "markdown",
   "id": "1281986e",
   "metadata": {},
   "source": [
    "## What is a computer program?\n",
    "\n",
    "At its simplest, a program is a list of instructions that a computer carries out in order. A program could be long and complicated, but it is built of simple parts. Let's look at some simple operations in Python, and think about what the computer does for each one:"
   ]
  },
  {
   "cell_type": "code",
   "execution_count": 1,
   "id": "de3c03fc",
   "metadata": {},
   "outputs": [
    {
     "data": {
      "text/plain": [
       "2"
      ]
     },
     "execution_count": 1,
     "metadata": {},
     "output_type": "execute_result"
    }
   ],
   "source": [
    "1 + 1"
   ]
  },
  {
   "cell_type": "code",
   "execution_count": 2,
   "id": "50dab0eb",
   "metadata": {},
   "outputs": [
    {
     "data": {
      "text/plain": [
       "7.0"
      ]
     },
     "execution_count": 2,
     "metadata": {},
     "output_type": "execute_result"
    }
   ],
   "source": [
    "2 * 3.5"
   ]
  },
  {
   "cell_type": "code",
   "execution_count": 3,
   "id": "babda60a",
   "metadata": {},
   "outputs": [
    {
     "data": {
      "text/plain": [
       "7.0"
      ]
     },
     "execution_count": 3,
     "metadata": {},
     "output_type": "execute_result"
    }
   ],
   "source": [
    "1 + 1\n",
    "2 * 3.5"
   ]
  },
  {
   "cell_type": "markdown",
   "id": "dc6caf97",
   "metadata": {},
   "source": [
    "In the first cell we compute `1 + 1`, and Python returns the result `2`. We can think of this as a very short program. Similarly, in the second cell we compute `2 * 3.5`, and Python returns the result `7.0`.\n",
    "\n",
    "However, in the third cell, when we combine these two statements as sequential line, we only see Python return `7.0`. Why is that?\n",
    "\n",
    "Python can only reurn one result at the end of the cell, so the first line is evaluated, but we never see the result. One way we can report itermediate results is using `print`."
   ]
  },
  {
   "cell_type": "code",
   "execution_count": 16,
   "id": "b481311f",
   "metadata": {},
   "outputs": [
    {
     "name": "stdout",
     "output_type": "stream",
     "text": [
      "j\n",
      "28\n",
      "8.888\n",
      "True\n"
     ]
    }
   ],
   "source": [
    "my_name = \"Jokmon\"\n",
    "my_age = 28\n",
    "favourite_number = 8.888\n",
    "married = True\n",
    "\n",
    "print(my_name)\n",
    "print(my_age)\n",
    "print(favourite_number)\n",
    "print(married)"
   ]
  },
  {
   "cell_type": "code",
   "execution_count": 2,
   "id": "a044ae7e",
   "metadata": {},
   "outputs": [
    {
     "name": "stdout",
     "output_type": "stream",
     "text": [
      "<class 'str'>\n",
      "<class 'int'>\n",
      "<class 'float'>\n",
      "<class 'bool'>\n"
     ]
    }
   ],
   "source": [
    "print(type(my_name))\n",
    "print(type(my_age))\n",
    "print(type(favourite_number))\n",
    "print(type(married))"
   ]
  },
  {
   "cell_type": "code",
   "execution_count": 17,
   "id": "d6b43745",
   "metadata": {},
   "outputs": [
    {
     "name": "stdout",
     "output_type": "stream",
     "text": [
      "50\n",
      "28\n",
      "24\n",
      "28\n"
     ]
    }
   ],
   "source": [
    "from sys import getsizeof\n",
    "\n",
    "print(getsizeof(my_name))\n",
    "print(getsizeof(my_age))\n",
    "print(getsizeof(favourite_number))\n",
    "print(getsizeof(married))"
   ]
  },
  {
   "cell_type": "code",
   "execution_count": 18,
   "id": "5f81fc42",
   "metadata": {},
   "outputs": [
    {
     "name": "stdout",
     "output_type": "stream",
     "text": [
      "Ojok Simon Peter\n",
      "30\n"
     ]
    }
   ],
   "source": [
    "my_name = \"Ojok Simon Peter\"\n",
    "my_age = 30\n",
    "\n",
    "print(my_name)\n",
    "print(my_age)"
   ]
  },
  {
   "cell_type": "code",
   "execution_count": 21,
   "id": "ce3c39bd",
   "metadata": {},
   "outputs": [
    {
     "name": "stdout",
     "output_type": "stream",
     "text": [
      "In 10 years, I will be 40 years old\n"
     ]
    }
   ],
   "source": [
    "print(\"In 10 years, I will be {} years old\".format(my_age + 10))"
   ]
  },
  {
   "cell_type": "code",
   "execution_count": 22,
   "id": "ca4fdb81",
   "metadata": {},
   "outputs": [
    {
     "name": "stdout",
     "output_type": "stream",
     "text": [
      "Hello World\n"
     ]
    }
   ],
   "source": [
    "print(\"Hello World\")"
   ]
  },
  {
   "cell_type": "markdown",
   "id": "61d44c4d",
   "metadata": {},
   "source": [
    "# Functions"
   ]
  },
  {
   "cell_type": "markdown",
   "id": "4a8184bd",
   "metadata": {},
   "source": [
    "$$ f(x) = 3x + 2 $$"
   ]
  },
  {
   "cell_type": "markdown",
   "id": "6126543c",
   "metadata": {},
   "source": [
    "$$ f(6) -> 20 $$"
   ]
  },
  {
   "cell_type": "code",
   "execution_count": 43,
   "id": "da6e7761",
   "metadata": {},
   "outputs": [
    {
     "data": {
      "text/plain": [
       "25"
      ]
     },
     "execution_count": 43,
     "metadata": {},
     "output_type": "execute_result"
    }
   ],
   "source": [
    "\n",
    "def square(x):\n",
    "    return x**2\n",
    "square(5)"
   ]
  },
  {
   "cell_type": "code",
   "execution_count": 44,
   "id": "5cd1d71c",
   "metadata": {},
   "outputs": [
    {
     "data": {
      "text/plain": [
       "25"
      ]
     },
     "execution_count": 44,
     "metadata": {},
     "output_type": "execute_result"
    }
   ],
   "source": [
    "def square(x):\n",
    "    return x\n",
    "square(pow(5, 2))"
   ]
  },
  {
   "cell_type": "code",
   "execution_count": 45,
   "id": "03ed9a10",
   "metadata": {},
   "outputs": [
    {
     "data": {
      "text/plain": [
       "8"
      ]
     },
     "execution_count": 45,
     "metadata": {},
     "output_type": "execute_result"
    }
   ],
   "source": [
    "def cube(number):\n",
    "    return number\n",
    "cube(pow(2, 3))"
   ]
  },
  {
   "cell_type": "code",
   "execution_count": 47,
   "id": "18831179",
   "metadata": {},
   "outputs": [
    {
     "name": "stdout",
     "output_type": "stream",
     "text": [
      "Hello Simon Peter\n"
     ]
    }
   ],
   "source": [
    "def say_hello(name):\n",
    "    return name\n",
    "print(\"Hello {}\".format(say_hello(\"Simon Peter\")))"
   ]
  },
  {
   "cell_type": "code",
   "execution_count": 51,
   "id": "82b57b09",
   "metadata": {},
   "outputs": [],
   "source": [
    "def do_it(x):\n",
    "    print((x**2 + 2)**2)"
   ]
  },
  {
   "cell_type": "code",
   "execution_count": 52,
   "id": "3bb811d3",
   "metadata": {},
   "outputs": [
    {
     "name": "stdout",
     "output_type": "stream",
     "text": [
      "9\n",
      "36\n",
      "121\n",
      "324\n",
      "729\n",
      "1444\n",
      "2601\n",
      "4356\n",
      "6889\n",
      "10404\n"
     ]
    }
   ],
   "source": [
    "do_it(1)\n",
    "do_it(2)\n",
    "do_it(3)\n",
    "do_it(4)\n",
    "do_it(5)\n",
    "do_it(6)\n",
    "do_it(7)\n",
    "do_it(8)\n",
    "do_it(9)\n",
    "do_it(10)"
   ]
  },
  {
   "cell_type": "code",
   "execution_count": null,
   "id": "d4883684",
   "metadata": {},
   "outputs": [],
   "source": []
  }
 ],
 "metadata": {
  "kernelspec": {
   "display_name": "Python 3 (ipykernel)",
   "language": "python",
   "name": "python3"
  },
  "language_info": {
   "codemirror_mode": {
    "name": "ipython",
    "version": 3
   },
   "file_extension": ".py",
   "mimetype": "text/x-python",
   "name": "python",
   "nbconvert_exporter": "python",
   "pygments_lexer": "ipython3",
   "version": "3.9.7"
  }
 },
 "nbformat": 4,
 "nbformat_minor": 5
}
